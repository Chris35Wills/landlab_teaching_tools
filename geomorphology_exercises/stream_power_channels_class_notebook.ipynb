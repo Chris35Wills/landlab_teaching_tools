{
 "cells": [
  {
   "cell_type": "markdown",
   "metadata": {},
   "source": [
    "<a href=\"http://landlab.github.io\"><img style=\"float: left\" src=\"https://raw.githubusercontent.com/landlab/tutorials/master/landlab_header.png\"></a>"
   ]
  },
  {
   "cell_type": "markdown",
   "metadata": {},
   "source": [
    "# Quantifying river channel evolution with Landlab\n",
    "These exercises are based on a project orginally designed by Kelin Whipple at Arizona State University. "
   ]
  },
  {
   "cell_type": "markdown",
   "metadata": {},
   "source": [
    "<hr>\n",
    "<small> For instructions on how to run an interactive IPython notebook, click here: <a href=\"https://github.com/landlab/tutorials/blob/master/README.md\">https://github.com/landlab/tutorials/blob/master/README.md</a></small><br>\n",
    "<small>For tutorials on learning Landlab, click here: <a href=\"https://github.com/landlab/landlab/wiki/Tutorials\">https://github.com/landlab/landlab/wiki/Tutorials</a></small>\n",
    "<hr>"
   ]
  },
  {
   "cell_type": "markdown",
   "metadata": {},
   "source": [
    "** What is this notebook? **\n",
    "\n",
    "This notebook illustrates the evolution of detachment-limited channels in an actively uplifting landscape. The landscape evolves according to the equation:\n",
    "\n",
    "\\begin{equation}\n",
    " \\frac{d z}{d t} = -K_\\text{sp} A^{m_{sp}} S^{n_{sp}} + U\n",
    "\\end{equation}\n",
    "Here, $K_{sp}$ is the coefficient on fluvial incision, and $m_{sp}$ and $n_{sp}$ are positive exponents, usually thought to have a ratio, $m_{sp}/n_{sp} \\approx 0.5$. $A$ is drainage area and $S$ is the slope of steepest descent ($-\\frac{dz}{dx}$) where $x$ is horizontal distance (positive in the downslope direction) and $z$ is elevation. (If slope is negative there is no fluvial erosion.) $U$ is an externally-applied rock uplift field.\n",
    "\n",
    "The fluvial erosion term is also known as the stream power equation. Before using this notebook you should be familiar with this equation from class lectures and reading.\n",
    "\n",
    "** What will you do? **\n",
    "\n",
    "In this exercise you will modify the code to get a better understanding of how rock uplift and erodibility control fluvial channel form.\n",
    "\n",
    "Start at the top by reading each block of text and sequentially running each code block (shift - enter OR got to the _Cell_ pulldown menu at the top and choose _Run Cells_). \n",
    "\n",
    "Remember that you can always go to the _Kernel_ pulldown menu at the top and choose _Restart & Clear Output_ or _Restart & Run All_ if you change things and want to start afresh. If you just change one code block and rerun only that code block, only the parts of the code in that code block will be updated. (E.g. if you change parameters but don't reset the code blocks that initialize run time or topography, then these values will not be reset.) \n",
    "\n",
    "** Questions to answer before starting this assignment. **\n",
    "\n",
    "Answer these questions before running the notebook.\n",
    "\n",
    "1. What do you think will happen to total relief and channel slope at steady state if $K_{sp}$ is uniformly increased?\n",
    "2. What do you think will happen to total relief and channel slope at steady state if $U$ is uniformly increased?\n",
    "3. How do you think a steady-state landscape with a uniform low rock uplift rate will respond if rock uplift is uniformly increased? How will channel slopes change through time?"
   ]
  },
  {
   "cell_type": "markdown",
   "metadata": {},
   "source": [
    "** Now on to the code... **\n",
    "\n",
    "First we have to import the parts of Python and Landlab that are needed to run this code. You should not have to change this first code block."
   ]
  },
  {
   "cell_type": "code",
   "execution_count": null,
   "metadata": {
    "collapsed": true
   },
   "outputs": [],
   "source": [
    "# Code block 1\n",
    "\n",
    "import numpy as np\n",
    "from landlab import RasterModelGrid\n",
    "from landlab.components import StreamPowerEroder, FlowRouter\n",
    "from landlab.components import ChiFinder, SteepnessFinder\n",
    "from landlab.plot import channel_profile as prf\n",
    "from landlab import imshow_grid\n",
    "from matplotlib import pyplot as plt\n",
    "from landlab.io import write_esri_ascii\n",
    "#below is to make plots show up in the notebook\n",
    "%matplotlib inline "
   ]
  },
  {
   "cell_type": "markdown",
   "metadata": {},
   "source": [
    "Make a grid and set boundary conditions. "
   ]
  },
  {
   "cell_type": "code",
   "execution_count": null,
   "metadata": {
    "collapsed": true
   },
   "outputs": [],
   "source": [
    "# Code Block 2\n",
    "\n",
    "number_of_rows = 50 # number of raster cells in vertical direction (y)\n",
    "number_of_columns = 100 # number of raster cells in horizontal direction (x)\n",
    "dxy  = 200 # side length of a raster model cell, or resolution [m]\n",
    "\n",
    "# Below is a raster (square cells) grid, with equal width and height \n",
    "mg = RasterModelGrid((number_of_rows,number_of_columns), dxy)\n",
    "\n",
    "# Set boundary conditions - only the south side of the grid is open.\n",
    "# Boolean parameters are sent to function in order of\n",
    "# east, north, west, south.\n",
    "mg.set_closed_boundaries_at_grid_edges(True, True, True, False)"
   ]
  },
  {
   "cell_type": "markdown",
   "metadata": {},
   "source": [
    "Here we make the initial grid of elevation of zeros with a very small amount of noise to make a more pleasing network."
   ]
  },
  {
   "cell_type": "code",
   "execution_count": null,
   "metadata": {
    "collapsed": true
   },
   "outputs": [],
   "source": [
    "# Code Block 3\n",
    "\n",
    "np.random.seed(35) # seed set to zero so our figures are reproducible\n",
    "mg_noise = np.random.rand(mg.number_of_nodes)/1000. # intial noise on elevation gri\n",
    "\n",
    "# set up the elevation on the grid\n",
    "zr = mg.add_zeros('node', 'topographic__elevation')\n",
    "zr += mg_noise"
   ]
  },
  {
   "cell_type": "markdown",
   "metadata": {},
   "source": [
    "Set parameters related to time."
   ]
  },
  {
   "cell_type": "code",
   "execution_count": null,
   "metadata": {
    "collapsed": true
   },
   "outputs": [],
   "source": [
    "# Code Block 4\n",
    "\n",
    "tmax = 5E5  # time for the model to run [yr] (Original value was 5E5 yr)\n",
    "dt = 5000 # time step [yr]\n",
    "total_time = 0 # amount of time the landscape has evolved [yr]\n",
    "# total_time will increase as you keep running the code.\n",
    "\n",
    "t = np.arange(0, tmax, dt) # each of the time steps that the code will run"
   ]
  },
  {
   "cell_type": "markdown",
   "metadata": {},
   "source": [
    "Set parameters for incision and intializing all of the process components that do the work. We also initialize tools for quantifying the landscape."
   ]
  },
  {
   "cell_type": "code",
   "execution_count": null,
   "metadata": {
    "collapsed": true
   },
   "outputs": [],
   "source": [
    "# Code Block 5\n",
    "\n",
    "# Original K_sp value is 1e-5\n",
    "K_sp = 1.E-5  # units vary depending on m_sp and n_sp \n",
    "m_sp = 0.5 # exponent on drainage area in stream power equation\n",
    "n_sp = 1.0 # exponent on slope in stream power equation\n",
    "\n",
    "frr = FlowRouter(mg) # intializing flow routing\n",
    "spr = StreamPowerEroder(mg, K_sp=K_sp, m_sp=m_sp, n_sp=n_sp, threshold_sp=0,\n",
    "                        use_Q=None) #initializing stream power incision\n",
    "\n",
    "theta = m_sp/n_sp \n",
    "# initialize the component that will calculate channel steepness\n",
    "sf = SteepnessFinder(mg, reference_concavity=theta, min_drainage_area=1000.)\n",
    "# initialize the component that will calculate the chi index\n",
    "cf = ChiFinder(mg, min_drainage_area=1000., reference_concavity=theta, use_true_dx=True)"
   ]
  },
  {
   "cell_type": "markdown",
   "metadata": {},
   "source": [
    "Initialize rock uplift rate. This will need to be changed later."
   ]
  },
  {
   "cell_type": "code",
   "execution_count": null,
   "metadata": {
    "collapsed": true
   },
   "outputs": [],
   "source": [
    "# Code Block 6\n",
    "\n",
    "#  uplift_rate [m/yr] (Original value is 0.0001 m/yr)\n",
    "uplift_rate = np.ones(mg.number_of_nodes)*0.0001 \n",
    "\n",
    "## If you want to add a one-time event that uplifts only part of the \n",
    "## landscape, uncomment the 3 lines below\n",
    "#fault_location = 4000  # [m]\n",
    "#uplift_amount = 10 # [m]\n",
    "#zr[np.where(mg.node_y>fault_location)] += uplift_amount \n",
    "\n",
    "## IMPORTANT! To use the below fault generator, comment the one-time \n",
    "## uplift event above if it isn't already commented out.\n",
    "## Code below creates a fault horizontally across the grid.\n",
    "## Uplift rates are greater where y values  > fault location.\n",
    "## To use, uncomment the 5 code lines below and edit to your values\n",
    "#fault_location = 4000  # [m]\n",
    "#low_uplift_rate = 0.0001 # [m/yr]\n",
    "#high_uplift_rate = 0.0004 # [m/yr]\n",
    "#uplift_rate[np.where(mg.node_y<fault_location)] = low_uplift_rate\n",
    "#uplift_rate[np.where(mg.node_y>fault_location)] = high_uplift_rate\n",
    "\n",
    "## IMPORTANT! To use below rock uplift gradient, comment the two\n",
    "## uplift options above if they aren't already commented out.\n",
    "## If you want a linear gradient in uplift rate \n",
    "## (increasing uplift into the range),\n",
    "## uncomment the 4 code lines below and edit to your values.\n",
    "#low_uplift_rate = 0.0001 # [m/yr]\n",
    "#high_uplift_rate = 0.004 # [m/yr]\n",
    "## below is uplift gradient per node row index, NOT row value in meters\n",
    "#uplift_rate_gradient = (high_uplift_rate - low_uplift_rate)/(number_of_rows-3)\n",
    "#uplift_rate = low_uplift_rate + ((mg.node_y / dxy)-1) * uplift_rate_gradient"
   ]
  },
  {
   "cell_type": "markdown",
   "metadata": {},
   "source": [
    "Now for the code loop. \n",
    "\n",
    "Note that you can rerun Code Block 7 many times, and as long as you don't reset the elevation field (Code Block 3), it will take the already evolved landscape and evolve it even more. If you want to change parameters in other code blocks (e.g. Code Block 5 or 6), you can do that too, and as long as you don't reset the elevation field (Code Block 3) the new parameters will apply on the already evolved topography. "
   ]
  },
  {
   "cell_type": "code",
   "execution_count": null,
   "metadata": {
    "collapsed": false,
    "scrolled": true
   },
   "outputs": [],
   "source": [
    "# Code Block 7\n",
    "\n",
    "for ti in t:\n",
    "    zr[mg.core_nodes] += uplift_rate[mg.core_nodes]*dt # uplift the landscape\n",
    "    frr.run_one_step() # route flow\n",
    "    spr.run_one_step(dt) # fluvial incision\n",
    "    total_time += dt # update time keeper\n",
    "    print(total_time)"
   ]
  },
  {
   "cell_type": "markdown",
   "metadata": {},
   "source": [
    "Plot the topography."
   ]
  },
  {
   "cell_type": "code",
   "execution_count": null,
   "metadata": {
    "collapsed": false
   },
   "outputs": [],
   "source": [
    "# Code Block 8\n",
    "\n",
    "imshow_grid(mg, 'topographic__elevation', grid_units=('m', 'm'),\n",
    "                var_name='Elevation (m)')\n",
    "title_text = '$K_{sp}$='+str(K_sp) + '; $time$='+str(total_time) + 'yr; $dx$='+str(dxy) + 'm'\n",
    "plt.title(title_text)\n",
    "\n",
    "max_elev = np.max(zr)\n",
    "print('Maximum elevation is ', np.max(zr))"
   ]
  },
  {
   "cell_type": "markdown",
   "metadata": {},
   "source": [
    "Plot the slope and area data at each point on the landscape (in log-log space)."
   ]
  },
  {
   "cell_type": "code",
   "execution_count": null,
   "metadata": {
    "collapsed": false,
    "scrolled": true
   },
   "outputs": [],
   "source": [
    "# Code Block 9\n",
    "\n",
    "indices = np.where(mg.status_at_node[mg.at_node['flow__receiver_node']] == 0)\n",
    "plt.loglog(mg.at_node['drainage_area'][indices],\n",
    "           mg.at_node['topographic__steepest_slope'][indices], 'b.')\n",
    "plt.ylabel('Topographic slope')\n",
    "plt.xlabel('Drainage area (m^2)')\n",
    "title_text = '$K_{sp}$='+str(K_sp) + '; $time$='+str(total_time) + 'yr; $dx$='+str(dxy) + 'm'\n",
    "plt.title(title_text)"
   ]
  },
  {
   "cell_type": "markdown",
   "metadata": {},
   "source": [
    "It is slightly easier to interpret slope-area data when we look at a single channel, rather than the entire landscape. Below we plot the profile and slope-area data for the three largest channels on the landscape."
   ]
  },
  {
   "cell_type": "code",
   "execution_count": null,
   "metadata": {
    "collapsed": false
   },
   "outputs": [],
   "source": [
    "# Code Block 10\n",
    "\n",
    "# find the location of the largest channels, set initially to find 3 chans\n",
    "profile_IDs = prf.channel_nodes(mg, mg.at_node['topographic__steepest_slope'],\n",
    "                                mg.at_node['drainage_area'],\n",
    "                                mg.at_node['flow__receiver_node'],\n",
    "                                number_of_channels=3)\n",
    "\n",
    "# find the upstream distances in these channels\n",
    "dists_upstr = prf.get_distances_upstream(\n",
    "    mg, len(mg.at_node['topographic__steepest_slope']),\n",
    "    profile_IDs, mg.at_node['flow__link_to_receiver_node'])\n",
    "\n",
    "# channel profiles\n",
    "plt.figure(1)\n",
    "plt.plot(dists_upstr[0], zr[profile_IDs[0]], 'b-', label='channel 1')\n",
    "plt.plot(dists_upstr[1], zr[profile_IDs[1]], 'k-', label='channel 2')\n",
    "plt.plot(dists_upstr[2], zr[profile_IDs[2]], 'r-', label='channel 3')\n",
    "plt.xlabel('distance upstream (m)')\n",
    "plt.ylabel('elevation (m)')\n",
    "plt.legend(loc='upper left')\n",
    "title_text = '$K_{sp}$='+str(K_sp) + '; $time$='+str(total_time) + 'yr; $dx$='+str(dxy) + 'm'\n",
    "plt.title(title_text)\n",
    "\n",
    "# slope-area data in just the profiled channels\n",
    "plt.figure(2)\n",
    "plt.loglog(mg.at_node['drainage_area'][profile_IDs[0]],\n",
    "           mg.at_node['topographic__steepest_slope'][profile_IDs[0]], 'b.',\n",
    "           label='channel 1')\n",
    "plt.loglog(mg.at_node['drainage_area'][profile_IDs[1]],\n",
    "           mg.at_node['topographic__steepest_slope'][profile_IDs[1]], 'k.',\n",
    "           label='channel 2')\n",
    "plt.loglog(mg.at_node['drainage_area'][profile_IDs[2]],\n",
    "           mg.at_node['topographic__steepest_slope'][profile_IDs[2]], 'r.',\n",
    "           label='channel 3')\n",
    "plt.legend(loc='lower left')\n",
    "plt.xlabel('drainage area (m^2)')\n",
    "plt.ylabel('channel slope [m/m]')\n",
    "title_text = '$K_{sp}$='+str(K_sp) + '; $time$='+str(total_time) + 'yr; $dx$='+str(dxy) + 'm'\n",
    "plt.title(title_text)"
   ]
  },
  {
   "cell_type": "markdown",
   "metadata": {},
   "source": [
    "The chi index is a useful way to quantitatively interpret fluvial channels. Below we plot the chi index in the three largest channels and also a chi map across the entire landscape. "
   ]
  },
  {
   "cell_type": "code",
   "execution_count": null,
   "metadata": {
    "collapsed": false
   },
   "outputs": [],
   "source": [
    "# Code Block 11\n",
    "\n",
    "# Relocate profile IDs and calculate distance upstream, just in case\n",
    "# Code Blocks are run out-of-order\n",
    "profile_IDs = prf.channel_nodes(mg, mg.at_node['topographic__steepest_slope'],\n",
    "                                mg.at_node['drainage_area'],\n",
    "                                mg.at_node['flow__receiver_node'],\n",
    "                                number_of_channels=3)\n",
    "\n",
    "dists_upstr = prf.get_distances_upstream(\n",
    "    mg, len(mg.at_node['topographic__steepest_slope']),\n",
    "    profile_IDs, mg.at_node['flow__link_to_receiver_node'])\n",
    "\n",
    "# calculate the chi index\n",
    "cf.calculate_chi()\n",
    "\n",
    "# chi-elevation plots in the profiled channels\n",
    "plt.figure(3)\n",
    "plt.plot(mg.at_node['channel__chi_index'][profile_IDs[0]], \n",
    "         mg.at_node['topographic__elevation'][profile_IDs[0]],'b-',\n",
    "         label='channel 1')\n",
    "plt.plot(mg.at_node['channel__chi_index'][profile_IDs[1]], \n",
    "         mg.at_node['topographic__elevation'][profile_IDs[1]],'k-',\n",
    "         label='channel 2')\n",
    "plt.plot(mg.at_node['channel__chi_index'][profile_IDs[2]], \n",
    "         mg.at_node['topographic__elevation'][profile_IDs[2]],'r-',\n",
    "         label='channel 3')\n",
    "plt.xlabel('chi index')\n",
    "plt.ylabel('elevation (m)')\n",
    "plt.legend(loc = 'lower right')\n",
    "title_text = '$K_{sp}$='+str(K_sp) + '; $time$='+str(total_time) + \\\n",
    "            'yr; $dx$='+str(dxy) + 'm' + '; concavity='+str(theta)\n",
    "plt.title(title_text)\n",
    "\n",
    "# chi map\n",
    "plt.figure(4)\n",
    "imshow_grid(mg, 'channel__chi_index', grid_units=('m', 'm'),\n",
    "                var_name='Chi index ', cmap='jet')\n",
    "title_text = '$K_{sp}$='+str(K_sp) + '; $time$='+str(total_time) + \\\n",
    "            'yr; $dx$='+str(dxy) + 'm' + '; concavity='+str(theta)\n",
    "plt.title(title_text)"
   ]
  },
  {
   "cell_type": "markdown",
   "metadata": {},
   "source": [
    "The channel steepness index is another useful index to quantify fluvial channels. Below we plot the steepness index in the same three largest channels, and also plot steepness index across the grid."
   ]
  },
  {
   "cell_type": "code",
   "execution_count": null,
   "metadata": {
    "collapsed": false
   },
   "outputs": [],
   "source": [
    "# Code Block 12\n",
    "\n",
    "# Relocate profile IDs and calculate distance upstream, just in case\n",
    "# Code Blocks are run out-of-order\n",
    "profile_IDs = prf.channel_nodes(mg, mg.at_node['topographic__steepest_slope'],\n",
    "                                mg.at_node['drainage_area'],\n",
    "                                mg.at_node['flow__receiver_node'],\n",
    "                                number_of_channels=3)\n",
    "\n",
    "dists_upstr = prf.get_distances_upstream(\n",
    "    mg, len(mg.at_node['topographic__steepest_slope']),\n",
    "    profile_IDs, mg.at_node['flow__link_to_receiver_node'])\n",
    "\n",
    "# calculate channel steepness\n",
    "sf.calculate_steepnesses()\n",
    "\n",
    "# plots of steepnes vs. distance upstream in the profiled channels\n",
    "plt.figure(5)\n",
    "plt.plot(dists_upstr[0], mg.at_node['channel__steepness_index'][profile_IDs[0]], 'bx',\n",
    "         label='channel 1')\n",
    "plt.plot(dists_upstr[1], mg.at_node['channel__steepness_index'][profile_IDs[1]], 'kx',\n",
    "         label='channel 2')\n",
    "plt.plot(dists_upstr[2], mg.at_node['channel__steepness_index'][profile_IDs[2]], 'rx',\n",
    "         label='channel 3')\n",
    "plt.xlabel('distance upstream (m)')\n",
    "plt.ylabel('steepness index')\n",
    "plt.legend(loc = 'upper left')\n",
    "title_text = '$K_{sp}$='+str(K_sp) + '; $time$='+str(total_time) + \\\n",
    "            'yr; $dx$='+str(dxy) + 'm' + '; concavity='+str(theta)\n",
    "plt.title(title_text)\n",
    "\n",
    "# channel steepness map\n",
    "plt.figure(6)\n",
    "imshow_grid(mg, 'channel__steepness_index', grid_units=('m', 'm'),\n",
    "                var_name='Steepness index ', cmap='jet')\n",
    "title_text = '$K_{sp}$='+str(K_sp) + '; $time$='+str(total_time) + \\\n",
    "            'yr; $dx$='+str(dxy) + 'm' + '; concavity='+str(theta)\n",
    "plt.title(title_text)"
   ]
  },
  {
   "cell_type": "markdown",
   "metadata": {},
   "source": [
    "If you have a grid that you want to export, uncomment and edit the appropriate lines below and run the code block."
   ]
  },
  {
   "cell_type": "code",
   "execution_count": null,
   "metadata": {
    "collapsed": true
   },
   "outputs": [],
   "source": [
    "# Code Block 13\n",
    "\n",
    "## Below has the name of the file that data will be written to.\n",
    "## You need to change the name of the file every time that you want\n",
    "## to write data, otherwise you will get an error.\n",
    "## This will write to the directory that you are running the code in.\n",
    "#write_file_name = 'data_file.txt'\n",
    "## Below is writing elevation data in the ESRI ascii format so that it can\n",
    "## easily be read into Arc GIS or back into Landlab.\n",
    "#write_esri_ascii(write_file_name, mg, 'topographic__elevation')"
   ]
  },
  {
   "cell_type": "markdown",
   "metadata": {},
   "source": [
    "After running every code block once, has the landscape reached steady state? Answer: NO! How do you know? After you think about this, you are ready to complete this project.\n",
    "\n",
    "\n",
    "Answer the following questions using the code above. All answers should be typed, and supporting figures (produced using the code) should be embedded in one document that you hand in. Code Blocks 8-12 produce different figures that you may find useful. You can use any or all of these different figures to help you with the questions below. (Download or screenshoot the figures.) Anything with a question mark should be answered in the document that you hand in. \n",
    "\n",
    "1. **Steady state with low uplift rate. ** Using the parameters provided in the initial notebook, run the landscape to steady state. (Note that you can keep running the main evolution loop - Code Block 7 - and the different plotting blocks without running the code blocks above them.) How did you know that the landscape reached steady state? Note the approximate time that it took to reach steady state. Include appropriate plots. (If you want to analyze these landscapes outside of Landlab or save for later, make sure you save the elevation data to a text file (Code Block 13).)\n",
    "\n",
    "2. **Transient landscape responding to an increase in rock uplift. ** Use the steady-state landscape that you generated in the first question, and increase rock uplift uniformly by a factor of 4 (Code Block 6). Before running this, make sure that you also reduce _tmax_ to 1e5 yrs (Code Block 4). Run this until the maximum elevation in the grid is ~ 170 m and observe how the landscape gets to this elevation. What patterns do you see in the supporting plots that illustrate this type of transient? Which patterns, if any, are diagnostic of a landscape response to uniform increase in rock uplift rate? (You may need to answer this after completing all of the questions.)\n",
    "\n",
    "3. ** Steady-state landscape with increased rock uplift. ** Now run the landscape from question 2 until it reaches steady state. Provide a plot that illustrates that the landscape is in steady state. What aspects of the landscape have changed in comparison with the initial steady state landscape from question 1?\n",
    "\n",
    "4. ** Increase erodibility. ** Use the steady-state landscape from question 3, and now double erodibility ($K_{sp}$ = 2E-5, Code Block 5). Set tmax to 1e5 yrs (Code Block 4). Run for 1e5 yrs and save the plots that you think are diagnostic. Run for another 1e5 yrs and save plots again. Now run for 5e5 yrs and save plots of the topography and slope-area relationship. Quantitatively describe how the landscape evolves in response to the increase in erodibility and provide supporting plots. What could cause a uniform increase in erodibility?\n",
    "\n",
    "5. ** Spatially varible uplift - discrete, massive earthquake. ** (First recreate the steady-state landscape with low uplift rate (uniform at 1e-4 m/yr) and low erodbility ($K_{sp}$ = 1E-5, i.e. setting in question 1.) Now add a seismic event - a fault that runs horizontally across the landscape at y = 4000 m, and instantaneously uplifts half the landscape by 10 meters (Code Block 6). In this case, we will keep background uplift uniform. Set tmax to 1e5 yrs (Code Block 4). Now run the time loop four times and look at the different plots after each loop. How does the landscape respond to this fault? What patterns do you see in the supporting plots that illustrate this type of transient? Which patterns, if any, are diagnostic of a channel response to an earthquake? (You may need to answer this after completing all of the questions.)\n",
    "\n",
    "6. ** Spatially Varible Rock Uplift - discrete fault with two different uplift rates. ** (First recreate the steady-state landscape with low uplift rate (uniform at 1e-4 m/yr) and low erodbility ($K_{sp}$ = 1E-5, i.e. setting in question 1.) Now we will add a fault (at y = 4000 m) in which the uplift rate on the footwall is higher (0.0004 m/yr) than on the hanging wall (uplift rate = 0.0001 m/yr). (Edit Code Block 6.) Set tmax to 1e5 yrs (Code Block 4) before you start running the time loop. Now run the time loop four separate times and look at the different plots after each loop. How does the landscape respond to this fault? What patterns do you see in the supporting plots that illustrate this type of transient? Which patterns, if any, are diagnostic of a channel response to a this type of gradient in rock uplift rates? (You may need to answer this after completing all of the questions.)\n",
    "\n",
    "7. ** Spatially Varible Rock Uplift - gradient in uplift across the range. ** (First recreate the steady-state landscape with low uplift rate (uniform at 1e-4 m/yr) and low erodbility ($K_{sp}$ = 1E-5, i.e. setting in question 1.) Now we will add a linear gradient in uplift rate across the entire range (edit Code Block 6). The maximum uplift rate will be 0.0004 m/yr at the core of the range, and 0.0001 m/yr at the front of the range. Set tmax to 1e5 yrs (Code Block 4) before you start running the time loop. Now run the time loop four separate times and look at the different plots after each loop. How does the landscape respond to this gradient in uplift rate? What patterns do you see in the supporting plots that illustrate this type of transient? Which patterns, if any, are diagnostic of a channel response to this type of gradient in rock uplift rates? (You may need to answer this after completing all of the questions.)\n",
    "\n",
    "8. ** Final Reflection. ** Was your initial insight into how parameters would affect the landscape correct? Discuss in 6 sentences or less."
   ]
  }
 ],
 "metadata": {
  "anaconda-cloud": {},
  "kernelspec": {
   "display_name": "Python [conda root]",
   "language": "python",
   "name": "conda-root-py"
  },
  "language_info": {
   "codemirror_mode": {
    "name": "ipython",
    "version": 2
   },
   "file_extension": ".py",
   "mimetype": "text/x-python",
   "name": "python",
   "nbconvert_exporter": "python",
   "pygments_lexer": "ipython2",
   "version": "2.7.12"
  }
 },
 "nbformat": 4,
 "nbformat_minor": 1
}
