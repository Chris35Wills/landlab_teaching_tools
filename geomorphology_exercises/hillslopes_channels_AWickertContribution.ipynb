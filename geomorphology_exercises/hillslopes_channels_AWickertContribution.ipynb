{
 "cells": [
  {
   "cell_type": "markdown",
   "metadata": {},
   "source": [
    "<a href=\"http://landlab.github.io\"><img style=\"float: left\" src=\"https://raw.githubusercontent.com/landlab/tutorials/master/landlab_header.png\"></a>"
   ]
  },
  {
   "cell_type": "markdown",
   "metadata": {},
   "source": [
    "# Modeling Hillslopes and Channels with Landlab\n",
    "The original version of this exercise was donated by Andy Wickert at the University of Minnesota."
   ]
  },
  {
   "cell_type": "markdown",
   "metadata": {},
   "source": [
    "<hr>\n",
    "<small> For instructions on how to run an interactive IPython notebook, click here: <a href=\"https://github.com/landlab/tutorials/blob/master/README.md\">https://github.com/landlab/tutorials/blob/master/README.md</a></small><br>\n",
    "<small>For tutorials on learning Landlab, click here: <a href=\"https://github.com/landlab/landlab/wiki/Tutorials\">https://github.com/landlab/landlab/wiki/Tutorials</a></small>\n",
    "<hr>"
   ]
  },
  {
   "cell_type": "markdown",
   "metadata": {},
   "source": [
    "** What is this notebook? **\n",
    "\n",
    "This notebook illustrates a landscape evolution model in which the landscape evolves according to the equation:\n",
    "\n",
    "\\begin{equation}\n",
    " \\frac{\\partial z}{\\partial t} = -K_\\text{sp} A^{m_{sp}} S^{n_{sp}} + K_\\text{hs} \\frac{\\partial^2 z}{\\partial x^2} + U\n",
    "\\end{equation}\n",
    "Here, $K$ are coefficients on the fluvial (_sp_) and hillslope (_hs_) parts of the equation, and $m_{sp}$ and $n_{sp}$ are positive exponents, usually thought to have a ratio, $m_{sp}/n_{sp} \\approx 0.5$. $A$ is drainage area and $S$ is the slope of steepest descent ($-\\frac{dz}{dx}$) where $x$ is horizontal distance (positive in the downslope direction) and $z$ is elevation. (If slope is negative there is no fluvial erosion.) $U$ is an externally-applied uplift field.\n",
    "\n",
    "The first term on the right hand side of the equation is the fluvial erosion term, which is also known as the stream power equation. The second term on the right hand side of the equation is elevation changes via linear diffusion, and linear diffusion is one way in which to describe hillslope sediment transport.\n",
    "\n",
    "** What will you do? **\n",
    "\n",
    "In this exercise you will modify the code to get a better understanding of how different parameters control landscape evolution and form.\n",
    "\n",
    "Start by sequentially running each code block without changing anything. At the end of the notebook you will see the questions that you need to answer by changing parts of the code and rerunning it. \n",
    "\n",
    "Remember that you can always go to the _Kernel_ pulldown menu at the top and choose _Restart & Clear Output_ or _Restart & Run All_ if you change things and want to start afresh. If you just change one code block and rerun only that code block, only the parts of the code in that code block will be updated. (E.g. if you change parameters but don't reset the code blocks that initialize run time or topography, then these values will not be reset.)"
   ]
  },
  {
   "cell_type": "markdown",
   "metadata": {},
   "source": [
    "** Now on to the code... **\n",
    "\n",
    "First we have to import the parts of Python and Landlab that are needed to run this code. You should not have to change this first code block."
   ]
  },
  {
   "cell_type": "code",
   "execution_count": null,
   "metadata": {
    "collapsed": false
   },
   "outputs": [],
   "source": [
    "# Code Block 1\n",
    "import numpy as np\n",
    "from landlab import RasterModelGrid, HexModelGrid\n",
    "from landlab.components import StreamPowerEroder, FlowRouter, \\\n",
    "     LinearDiffuser\n",
    "from landlab import imshow_grid\n",
    "from copy import deepcopy\n",
    "from matplotlib import pyplot as plt\n",
    "#below is to make plots show up in the notebook\n",
    "%matplotlib inline "
   ]
  },
  {
   "cell_type": "markdown",
   "metadata": {},
   "source": [
    "** Now we set parameters **\n",
    "\n",
    "This part you will need to change for the different exercises. \n",
    "\n",
    "Note that Landlab does not impose units, but it assumes that all units are consistent. We will assume that everything is given in _meters_ (m) and _years_ (yr)."
   ]
  },
  {
   "cell_type": "code",
   "execution_count": null,
   "metadata": {
    "collapsed": true
   },
   "outputs": [],
   "source": [
    "# Code Block 2\n",
    "uplift_rate = 0.001  # [m/yr]\n",
    "K_sp = 1.e-5  # units vary depending on m_sp and n_sp\n",
    "m_sp = 0.5 # exponent on drainage area in stream power equation\n",
    "n_sp = 1. # exponent on slope in stream power equation\n",
    "K_hs = 0.1  # [m^2/yr]\n",
    "tmax = 3E5  # time for the model to run [yr]\n",
    "ncells_side = 150 # number of raster cells on each side\n",
    "dxy  = 50 # side length of a raster model cell, or resolution [m]"
   ]
  },
  {
   "cell_type": "markdown",
   "metadata": {},
   "source": [
    "** Make a grid. **\n",
    "\n",
    "This part you may want to change."
   ]
  },
  {
   "cell_type": "code",
   "execution_count": null,
   "metadata": {
    "collapsed": true
   },
   "outputs": [],
   "source": [
    "# Code Block 3\n",
    "# Below is a raster (square cells) grid, with equal width and height \n",
    "mg = RasterModelGrid((ncells_side, ncells_side), dxy)\n",
    "\n",
    "# Below is a Hexagonal grid (hexagonal cells, \n",
    "# with equal width and height (a square)\n",
    "#mg = HexModelGrid(ncells_side, ncells_side, dxy, shape='rect')\n",
    "\n",
    "# Below is a hexagonal grid (hexagonal cells), \n",
    "# in which the grid is also a hexagon\n",
    "#mg = HexModelGrid(ncells_side, ncells_side/2, dxy, shape='hex')"
   ]
  },
  {
   "cell_type": "markdown",
   "metadata": {},
   "source": [
    "Set some variables related to time. "
   ]
  },
  {
   "cell_type": "code",
   "execution_count": null,
   "metadata": {
    "collapsed": true
   },
   "outputs": [],
   "source": [
    "# Code Block 4\n",
    "dt = 50000 # time step [yr]\n",
    "total_time = 0 # amount of time the landscape has evolved [yr]\n",
    "\n",
    "t = np.arange(0, tmax, dt) # each of the time steps that the code will run"
   ]
  },
  {
   "cell_type": "markdown",
   "metadata": {},
   "source": [
    "Here we make the initial grid of elevation. "
   ]
  },
  {
   "cell_type": "code",
   "execution_count": null,
   "metadata": {
    "collapsed": false
   },
   "outputs": [],
   "source": [
    "# Code Block 5\n",
    "np.random.seed(0) # seed set to zero so our figures are reproducible\n",
    "mg_noise = np.random.rand(mg.number_of_nodes)/1000. # intial noise on elevation gri\n",
    "\n",
    "# set up the elevation on the grid\n",
    "zr = mg.add_zeros('node', 'topographic__elevation')\n",
    "zr += mg_noise"
   ]
  },
  {
   "cell_type": "markdown",
   "metadata": {},
   "source": [
    "Intializing all of the process components that do the work."
   ]
  },
  {
   "cell_type": "code",
   "execution_count": null,
   "metadata": {
    "collapsed": true
   },
   "outputs": [],
   "source": [
    "# Code Block 6\n",
    "frr = FlowRouter(mg) # intializing flow routing\n",
    "spr = StreamPowerEroder(mg, K_sp=K_sp, m_sp=m_sp, n_sp=n_sp, threshold_sp=0,\n",
    "                        use_Q=None) #initializing stream power incision\n",
    "dfn = LinearDiffuser(mg, linear_diffusivity=K_hs, deposit = False) # initializing linear diffusion "
   ]
  },
  {
   "cell_type": "markdown",
   "metadata": {},
   "source": [
    "Now for the code loop. Note that you can rerun this code block many times, and as long as you don't rerun any of the code boxes above, it will take the already evolved landscape and evolve it even more."
   ]
  },
  {
   "cell_type": "code",
   "execution_count": null,
   "metadata": {
    "collapsed": false
   },
   "outputs": [],
   "source": [
    "# Code Block 7\n",
    "for ti in t:\n",
    "    zr[mg.core_nodes] += uplift_rate*dt # uplift the landscape\n",
    "    dfn.run_one_step(dt) # diffuse the landscape\n",
    "    frr.run_one_step() # route flow\n",
    "    spr.run_one_step(dt) # fluvial incision\n",
    "    total_time += dt # update time keeper\n",
    "    print total_time"
   ]
  },
  {
   "cell_type": "markdown",
   "metadata": {},
   "source": [
    "Plot the topography."
   ]
  },
  {
   "cell_type": "code",
   "execution_count": null,
   "metadata": {
    "collapsed": false
   },
   "outputs": [],
   "source": [
    "# Code Block 8\n",
    "imshow_grid(mg, 'topographic__elevation', grid_units=('m', 'm'),\n",
    "                var_name='Elevation (m)')\n",
    "title_text = '$K_{sp}$='+str(K_sp) + '; $K_{hs}$='+str(K_hs) + '; $time$='+str(total_time) + '; $dx$='+str(dxy)\n",
    "plt.title(title_text)"
   ]
  },
  {
   "cell_type": "markdown",
   "metadata": {},
   "source": [
    "Plot the slope and area data at each point (in log-log space)."
   ]
  },
  {
   "cell_type": "code",
   "execution_count": null,
   "metadata": {
    "collapsed": false
   },
   "outputs": [],
   "source": [
    "# Code Block 9\n",
    "edge = np.unique(mg.neighbors_at_node[mg.boundary_nodes, :])\n",
    "not_edge = np.in1d(mg.nodes.flatten(), edge, assume_unique=True,\n",
    "                       invert=True)\n",
    "plt.loglog(mg.at_node['drainage_area'][not_edge],\n",
    "           mg.at_node['topographic__steepest_slope'][not_edge], 'x')\n",
    "#xlim([1.e3, 1.e7])\n",
    "plt.ylabel('Topographic slope')\n",
    "plt.xlabel('Drainage area (m^2)')\n",
    "plt.title(title_text)"
   ]
  },
  {
   "cell_type": "markdown",
   "metadata": {},
   "source": [
    "Answer the following questions using the code above. All solutions should be typed, and supporting figures (produced using the code) should be embedded in your final document. (Download or screenshoot the figures.) You may want to make other plots with the data you collect using this model. You are free to make those plots using whatever software you choose.\n",
    "\n",
    "In parts of this exercise you need to work with your classmates. You are encouraged to discuss how to use the model and model results with your classmates, however the write-up that you hand in must be your own work.\n",
    "\n",
    "1. **Hillslope vs. Fluvial Processes. ** Using the parameters provided in the initial notebook, run the landscape to steady state, or the point at which the topography and the slope-area relationship stop changing (i.e. erosion equals rock uplift). (You can keep rerunning Code Block 7 until steady state is reached.) Use the plots of slope and area to estimate where the hillslope–fluvial transition is (or in otherwords, the threshold drainage area for channel heads). Now try keeping $K_{sp}$ the same but increase and decrease $K_{hs}$ (in Code Block 2). How does the transition from hillslope to channel change with changes in $K_{hs}$? Now try keeping $K_{hs}$ the same but increase and decrease $K_{sp}$ (in Code Block 2). How does the transition from hillslope to channel change with changes in $K_{sp}$? Produce a relationship between the different values of $K_{sp}$, $K_{hs}$ and the threshold drainage area. Remember to run all of your different parameter values to steady state before estimating the threshold drainage area.\n",
    "\n",
    "2. **Uplift and erosion. ** Now, perform a similar set of exercises as you did in exercise 1, but also systematically vary uplift rate. Work in teams, and each person should choose two combinations of $K_{sp}$ and $K_{hs}$ and three uplift rates (for a total of 6 runs). Make sure the values that you choose do not overlap with your group members. This time make sure you document the transition from hillslope to fluvial process, and you also note the maximum steady state elevation for each combination of uplift, $K_{sp}$ and $K_{hs}$. Produce relationships to show how the threshold and maximum elevation change with the different variables.\n",
    "\n",
    "3. ** Landscapes evolving to steady state. ** Try changing the grid size. Keep running the model until it reaches steady state. Keep record of this time. Now trying changing the rock uplift rate and record the time to steady state. Change the resolution (i.e. the cell size, Code Block 2) and record the time to steady state. Combine in groups to gather enough model outputs to form relationships between time to steady state and grid size, resolution, or  rock uplift rate. After doing this, choose a constant model set-up (fix grid size, resolution, and uplift rate) and run the model from a flat initial condition with noise to steady state, but capture snapshots of the topography and slope-area relationship as the landscape evolves. Now try changing one of the variables (grid size, resolution, or rock uplift rate) and do the same thing. Note any qualitative or quantitative differences you see (or do not see) between these two different evolutionary sequences.  \n",
    "\n",
    "4. ** Free-form exploration. ** Try changing the grid type (Code Block 3), grid size (Code Block 2), stream power exponents (Code Block 2), distribution of uplift rate (e.g., what happens if you have just part of the landscape experience uplift, a bit trickier, as uplift in Code Block 2 will need to be changed to an array), etc. Based on what you observe, create a consistent geomorphic history of the system. Creativity is expected here!"
   ]
  },
  {
   "cell_type": "code",
   "execution_count": null,
   "metadata": {
    "collapsed": true
   },
   "outputs": [],
   "source": []
  }
 ],
 "metadata": {
  "anaconda-cloud": {},
  "kernelspec": {
   "display_name": "Python [default]",
   "language": "python",
   "name": "python2"
  },
  "language_info": {
   "codemirror_mode": {
    "name": "ipython",
    "version": 2
   },
   "file_extension": ".py",
   "mimetype": "text/x-python",
   "name": "python",
   "nbconvert_exporter": "python",
   "pygments_lexer": "ipython2",
   "version": "2.7.12"
  }
 },
 "nbformat": 4,
 "nbformat_minor": 1
}
