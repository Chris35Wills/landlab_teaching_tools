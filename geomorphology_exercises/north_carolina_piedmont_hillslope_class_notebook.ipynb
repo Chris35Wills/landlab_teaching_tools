{
 "cells": [
  {
   "cell_type": "markdown",
   "metadata": {},
   "source": [
    "<a href=\"http://landlab.github.io\"><img style=\"float: left\" src=\"https://raw.githubusercontent.com/landlab/tutorials/master/landlab_header.png\"></a>"
   ]
  },
  {
   "cell_type": "markdown",
   "metadata": {},
   "source": [
    "# Using Landlab to explore a diffusive hillslope in the piedmont of North Carolina \n",
    "\n",
    "This notebook was developed in collaboration with Karl Wegmann at North Carolina State University. "
   ]
  },
  {
   "cell_type": "markdown",
   "metadata": {},
   "source": [
    "<hr>\n",
    "For instructions on how to run an interactive IPython notebook, click here: <a href=\"https://github.com/landlab/tutorials/blob/master/README.md\">https://github.com/landlab/tutorials/blob/master/README.md</a><br>\n",
    "For tutorials on learning Landlab, click here: <a href=\"https://github.com/landlab/landlab/wiki/Tutorials\">https://github.com/landlab/landlab/wiki/Tutorials</a>\n",
    "<hr>\n"
   ]
  },
  {
   "cell_type": "markdown",
   "metadata": {},
   "source": [
    "**What is this notebook?**\n",
    "\n",
    "This notebook is designed to be an exercise for students in a quantative geomorphology class. This notebook is meant to illustrate to students how a model can be used to understand and interpret real landscapes. This notebook is not designed to teach students how to code, nor is it designed to teach students how to use Landlab.\n",
    "\n",
    "This notebook provides data from a real landscape in North Carolina in order to compare the shape of this hillslope with those produced by models using linear diffusion.\n",
    "\n",
    "This notebook steps students through exercises to quantify the diffusivity on this hillslope, assuming that sediment transport on this hillslope follows a linear diffusion law. \n",
    "\n",
    "**Application of linear diffusion transport law:**\n",
    "\n",
    "The tranport law applied here is of the form:\n",
    "\\begin{equation}\n",
    "q_s = -D \\nabla z\n",
    "\\end{equation}\n",
    "where ${q}_s$ is the transport rate with dimensions of L$^2$T$^{-1}$;  $D$ is a transport coefficient with dimensions of L$^2$T$^{-1}$; and $z$ is elevation. $\\nabla z$ is the gradient in the landscape, and landscape slope is $-\\nabla z$, hence the negative in the above equation. \n",
    " \n",
    "Changes in elevation, or erosion, are calculated from conservation of mass:\n",
    "\\begin{equation}\n",
    "\\frac{dz}{dt} = U-\\nabla q_s\n",
    "\\end{equation}\n",
    "where $U$ is the rock uplift rate, with dimensions LT$^{-1}$ and $t$ is time.\n",
    "\n",
    "Note that at steady state the rock uplift rate sets the erosion rate. If the erosion rate in a landscape is a known, a modeling scenario in which the landscape is uplifting at the same rate as the known erosion rate will eventually lead to a landscape that is also eroding at that rate. \n",
    "\n",
    "**What will we do with Landlab?**\n",
    "\n",
    "Here we will use the Landlab component *LinearDiffuser*, to explore whether hillslopes evolved according to a linear diffusion rule look like the example North Carolina hillslope. We will just be eye-balling similarities. No rigorous comparison between the real and modeled hillslope is performed.\n",
    "\n",
    "More general background on applying hillslope process models to real landscapescan be found in this paper:\n",
    "\n",
    "Roering, Joshua J. (2008) \"How well can hillslope evolution models “explain” topography? Simulating soil transport and production with high-resolution topographic data.\" Geological Society of America Bulletin.\n",
    "\n",
    "This paper has a nice compilation of measured landscape diffusivity values:\n",
    "\n",
    "Perron, J. T., (2017) \"Climate and the pace of erosional landscape evolution\" Annual Review of Earth and Planetary Sciences.\n",
    "\n",
    "**What do you need to know about this Landscape?**\n",
    "\n",
    "General information on this landscape can be found in this reference:\n",
    "\n",
    "Wegmann, K. W., Lewis, R. Q., & Hunt, M. C. (2012). \"Historic mill ponds and piedmont stream water quality: Making the connection near Raleigh, North Carolina\". Field Guides.\n",
    "\n",
    "For now the following information is provided.\n",
    "\n",
    "- The site is in the Piedmont near Raleigh, North Carolina.\n",
    "- The site is in the W.B. Umstead State Park which is in the Sycamore Creek watershed. Sycamore Creek drains into the Neuse River.\n",
    "- The area gets ~ 1.25 m/yr of rainfall.\n",
    "- The site is currently forested.\n",
    "- Basin average erosion rates from the area are on the order of 10 m/million years, or 1e-5 m/yr. These rates are averaged over millenial time scales. These rates are from a nearby area similar to this, but not exactly this study area.\n",
    "- The site has been heavily impacted from agriculture due to European settlers, beginning in the 1600s. \n",
    "\n",
    "**What you need to do:**\n",
    "\n",
    "You will start out by making the assumption that the landscape is eroding at a rate of 1e-5 m/yr. \n",
    "\n",
    "As you will see, the study area hillslope profile has a form similar to what one would expect from a uniformly eroding diffusive profile. **Your first goal is to find the diffusivity and time required for the profile to reach steady state given the background erosion rate of 1e-5 m/yr.** You can do that by running the code below. **Take special note of Code Block 6 where you set the diffusivity. Make sure choose a resonable initial value, and record what your initial value was.** Also be prepared to change model run time (Code Block 7) for your initial experiments. Once you iterate to a modeled profile that you feel reasonably matches the DEM profile (just eye-ball the similarity), you will be ready to answer the questions that follow all of the code. \n",
    "\n",
    "**How to run a Jupyter notebook:**\n",
    "\n",
    "Read the text boxes and sequentially run each code block (shift - enter OR got to the _Cell_ pulldown menu at the top and choose _Run Cells_). \n",
    "\n",
    "Remember that you can always go to the _Kernel_ pulldown menu at the top and choose _Restart & Clear Output_ or _Restart & Run All_ if you change things and want to start afresh. If you just change one code block and rerun only that code block, only the parts of the code in that code block will be updated. (E.g. if you change parameters but don't reset the code blocks that initialize run time or topography, then these values will not be reset.) "
   ]
  },
  {
   "cell_type": "markdown",
   "metadata": {},
   "source": [
    "**Now on to the code...**\n",
    "\n",
    "We start by importing libraries that we will need to run the code. You should not need to edit this code block."
   ]
  },
  {
   "cell_type": "code",
   "execution_count": null,
   "metadata": {
    "collapsed": true
   },
   "outputs": [],
   "source": [
    "# Code Block 1\n",
    "\n",
    "import numpy as np\n",
    "from landlab.io import read_esri_ascii\n",
    "from landlab.plot.imshow import imshow_grid\n",
    "import matplotlib.pyplot as plt\n",
    "#below is to make plots show up in the notebook\n",
    "%matplotlib inline "
   ]
  },
  {
   "cell_type": "markdown",
   "metadata": {},
   "source": [
    "Below is a helper function for this notebook. You should not need to edit this code block."
   ]
  },
  {
   "cell_type": "code",
   "execution_count": null,
   "metadata": {
    "collapsed": true
   },
   "outputs": [],
   "source": [
    "# Code Block 2\n",
    "\n",
    "class FieldProfiler:\n",
    "\n",
    "    def __init__(self, mg, field, start, end):\n",
    "                \n",
    "        self._grid = mg\n",
    "        self._field = field\n",
    "        self.p0 = start\n",
    "        self.p1 = end\n",
    "        \n",
    "        # Get coordinates\n",
    "        x0,y0 = self.p0[0], self.p0[1]\n",
    "        x1,y1 = self.p1[0], self.p1[1]\n",
    "        length = int(np.hypot(x1 - x0, y1 - y0)) / mg.dx\n",
    "        (x, y) = np.linspace(x0, x1, length), np.linspace(y0, y1, length)\n",
    "        \n",
    "        self.x = np.append(0, (np.cumsum(np.diff(x))))\n",
    "\n",
    "        # Extract the values along the line.\n",
    "        self.ids = []\n",
    "        self.z = []\n",
    "        for i,xi in enumerate(x):\n",
    "            node = self._grid.find_nearest_node((xi, y[i]))\n",
    "            zi = self._grid.at_node[self._field][node]\n",
    "            \n",
    "            self.ids.append(node)\n",
    "            self.z.append(zi)\n",
    "\n",
    "    def plot(self):\n",
    "        \n",
    "        self.fig = plt.subplots(nrows=2, ncols=1)\n",
    "        \n",
    "        plt.subplot(2, 1, 1)\n",
    "        imshow_grid(self._grid, self._field)\n",
    "        plt.plot([self.p0[0], self.p1[0]], [self.p0[1], self.p1[1]], 'co-')\n",
    "        \n",
    "        plt.subplot(2,1,2)\n",
    "        plt.plot(self.x, self.z, 'k')\n",
    "        plt.xlabel('Distance')\n",
    "        plt.ylabel('Elevation')\n",
    "        \n",
    "        plt.tight_layout()"
   ]
  },
  {
   "cell_type": "markdown",
   "metadata": {},
   "source": [
    "Now we import the DEM from our example landscape, set boundary conditions, and plot the hillslope profile that we will compare model outcome with. Note that the location of the hillslope profile has already been chosen for you, but you could easily change this if you want to explore further. For the rest of this notebook we will focus on the western side of the slope, which is more easily explained using a linear diffusion equation."
   ]
  },
  {
   "cell_type": "code",
   "execution_count": null,
   "metadata": {
    "collapsed": false
   },
   "outputs": [],
   "source": [
    "# Code Block 3\n",
    "\n",
    "# Import DEM, note this is units of meters\n",
    "(nc_grid, z) = read_esri_ascii('ascii_dem.txt', name='topographic__elevation')\n",
    "# set boundary conditions on DEM for plotting reasons\n",
    "nc_grid.set_nodata_nodes_to_closed(z,-9999)\n",
    "\n",
    "# Create profile (p) between start and end coordinates\n",
    "p_start = (54, 194) # (x,y) of the starting point of profile\n",
    "p_end = (282, 109) # (x,y) of the end point of profile\n",
    "# Calculate the profile\n",
    "p = FieldProfiler(nc_grid, 'topographic__elevation', p_start, p_end)\n",
    "# Make a plot of the profile\n",
    "p.plot()\n",
    "# Get distance and elevation data along the profile line\n",
    "field_dist = p.x # distance along the profile\n",
    "field_z = p.z # elevation along the profile"
   ]
  },
  {
   "cell_type": "markdown",
   "metadata": {},
   "source": [
    "We will create a grid for our model using Landlab's *RasterModelGrid* class, which we need to import. We make a grid with *dx* = *dy* = 6.0960122 m (same resolution as the imported DEM). We make a grid that has 5 columns and 38 rows, to match the length of the profile from the real landscape.\n",
    "\n",
    "We set the initial elevation of the topography to be 87 m everywhere. We also set boundary conditions. (Sediment can leave the top and bottom of the grid). "
   ]
  },
  {
   "cell_type": "code",
   "execution_count": null,
   "metadata": {
    "collapsed": true
   },
   "outputs": [],
   "source": [
    "# Code Block 4\n",
    "\n",
    "from landlab import RasterModelGrid\n",
    "mg = RasterModelGrid((38, 5), 6.0960122) # make grid\n",
    "z_vals = mg.add_ones('topographic__elevation', at='node') # initialize z values\n",
    "initial_elevation = np.multiply(z_vals, 86.) # this line and next set elevation to 87. m\n",
    "z_vals += initial_elevation\n",
    "\n",
    "mg.set_closed_boundaries_at_grid_edges(True, False, True, False)"
   ]
  },
  {
   "cell_type": "markdown",
   "metadata": {},
   "source": [
    "Below we initialize values for plotting variables down the middle of the hillslope."
   ]
  },
  {
   "cell_type": "code",
   "execution_count": null,
   "metadata": {
    "collapsed": true
   },
   "outputs": [],
   "source": [
    "# Code Block 5\n",
    "\n",
    "ycoord_rast = mg.node_vector_to_raster(mg.node_y)\n",
    "ys_grid = ycoord_rast[:, 2]"
   ]
  },
  {
   "cell_type": "markdown",
   "metadata": {},
   "source": [
    "Now we import and initialize the *LinearDiffuser* component. In this case the units on our diffusivity coefficient, or transport coefficient, are m$^2$yr$^{-1}$.\n",
    "\n",
    "**NOTE to Students:** You need to chose a reasonable initial value for D (diffusivity). Remember you need to justify your initial guess for D."
   ]
  },
  {
   "cell_type": "code",
   "execution_count": null,
   "metadata": {
    "collapsed": true
   },
   "outputs": [],
   "source": [
    "# Code Block 6\n",
    "\n",
    "from landlab.components import LinearDiffuser\n",
    "D = 1 # value in m^2/yr\n",
    "lin_diffuse = LinearDiffuser(mg, linear_diffusivity=D)"
   ]
  },
  {
   "cell_type": "markdown",
   "metadata": {},
   "source": [
    "We now initialize a few more parameters."
   ]
  },
  {
   "cell_type": "code",
   "execution_count": null,
   "metadata": {
    "collapsed": true
   },
   "outputs": [],
   "source": [
    "# Code Block 7\n",
    "\n",
    "# Uniform rate of rock uplift, which drives uniform erosion at steady state\n",
    "uplift_rate = 0.00001  # m/year\n",
    "\n",
    "# Total time in years that the model will run for.\n",
    "runtime = 10000 # years\n",
    "\n",
    "# Stability criteria for timestep dt.  Coefficient can be changed\n",
    "# depending on our tolerance for stability vs tolerance for run time.\n",
    "# Do not change this.\n",
    "dt = 0.5 * mg.dx * mg.dx / D\n",
    "\n",
    "# nt is number of time steps\n",
    "nt = int(runtime // dt)\n",
    "\n",
    "# Below is to keep track of time for labeling plots\n",
    "time_counter = 0\n",
    "\n",
    "# length of uplift over a single time step, meters\n",
    "uplift_per_step = uplift_rate * dt"
   ]
  },
  {
   "cell_type": "markdown",
   "metadata": {},
   "source": [
    "Now we figure out the analytical solution for the elevation of the steady-state profile."
   ]
  },
  {
   "cell_type": "code",
   "execution_count": null,
   "metadata": {
    "collapsed": true
   },
   "outputs": [],
   "source": [
    "# Code Block 8\n",
    "\n",
    "ys = np.arange(mg.number_of_node_rows*mg.dx-mg.dx)\n",
    "\n",
    "# location of divide or ridge crest -> middle of grid \n",
    "# based on boundary conds.\n",
    "divide_loc = (mg.number_of_node_rows*mg.dx-mg.dx)/2\n",
    "\n",
    "# half-width of the ridge\n",
    "half_width = (mg.number_of_node_rows*mg.dx-mg.dx)/2\n",
    "\n",
    "# analytical solution for elevation under linear diffusion at steady state\n",
    "zs = np.add( (uplift_rate/(2*D)) * \\\n",
    "    (np.power(half_width, 2) - np.power(ys - divide_loc, 2)), 87)"
   ]
  },
  {
   "cell_type": "markdown",
   "metadata": {},
   "source": [
    "Before we evolve the landscape, let's look at the model initial topography, the analytical solution, and the field profile."
   ]
  },
  {
   "cell_type": "code",
   "execution_count": null,
   "metadata": {
    "collapsed": false
   },
   "outputs": [],
   "source": [
    "# Code Block 9\n",
    "\n",
    "plt.figure()\n",
    "imshow_grid(mg, 'topographic__elevation')\n",
    "plt.title('initial topography')\n",
    "plt.figure()\n",
    "elev_rast = mg.node_vector_to_raster(\n",
    "            mg.at_node['topographic__elevation'])\n",
    "plt.plot(ys_grid, elev_rast[:, 2], 'r-', label='model')\n",
    "plt.plot(ys, zs, 'k--', label='analytical solution')\n",
    "plt.plot(field_dist, field_z, 'b:', label='field data')\n",
    "plt.xlabel('horizontal distance (m)')\n",
    "plt.ylabel('vertical elevation (m)')\n",
    "plt.legend(loc='lower center')\n",
    "plt.title('before running model')"
   ]
  },
  {
   "cell_type": "markdown",
   "metadata": {},
   "source": [
    "Now we are ready to evolve the landscape and compare it to the steady state solution.\n",
    "\n",
    "Below is the time loop that does all the calculations. "
   ]
  },
  {
   "cell_type": "code",
   "execution_count": null,
   "metadata": {
    "collapsed": false
   },
   "outputs": [],
   "source": [
    "# Code Block 10\n",
    "\n",
    "for i in range(nt):\n",
    "    mg['node']['topographic__elevation'][mg.core_nodes] += uplift_per_step\n",
    "    lin_diffuse.run_one_step(dt)\n",
    "    time_counter += dt"
   ]
  },
  {
   "cell_type": "markdown",
   "metadata": {},
   "source": [
    "Now we plot the evolved cross-section."
   ]
  },
  {
   "cell_type": "code",
   "execution_count": null,
   "metadata": {
    "collapsed": false
   },
   "outputs": [],
   "source": [
    "# Code Block 11\n",
    "\n",
    "elev_rast = mg.node_vector_to_raster(\n",
    "            mg.at_node['topographic__elevation'])\n",
    "plt.plot(ys_grid, elev_rast[:, 2], 'r-', label='model')\n",
    "plt.plot(ys, zs, 'k--', label='analytical solution')\n",
    "plt.plot(field_dist, field_z, 'b:', label='field data')\n",
    "plt.xlabel('horizontal distance (m)')\n",
    "plt.ylabel('vertical elevation (m)')\n",
    "plt.legend(loc='lower center')\n",
    "plt.title('topographic cross section at time %s, with D = %s m^2/yr'%(time_counter,D))"
   ]
  },
  {
   "cell_type": "markdown",
   "metadata": {},
   "source": [
    "**Questions to answer and further model experiments:**\n",
    "\n",
    "_NOTE_ You should hand in a typed, electronic document that has figures embedded in the document. The document can be any type of readable file. Please include your name in the file name that you turn in.\n",
    "\n",
    "**Questions:**\n",
    "1. Your first task was to find the diffusivity and time to steady state required for the model to produce a landscape similar to the field area near Raleigh, NC. (Time to steady state can be approximate, you don't have to hone in on the exact year. I am just looking for order of magnitude time.) What was your initial guess for a diffusivity? What information did you use to choose that initial value? What was the value that produced a good match between the modeled and real hillslope form? (Again, you can eye-ball the match. Just get close visually.) Compared with other values of diffusivity that have been reported in the literature, how does your value compare? That is, given what you know about this landscape, does this seem like a reasonable diffusivity? Explain.\n",
    "2. What was the estimated time to steady state using the model? Compare the time to steady state with the time over which erosion rates were measured and the time period over which humans have dramatically impacted this landscape. What are the implications of the differences among the time to steady state, the time over which erosion rates were measured, and time over which humans have impacted this system?\n",
    "3. It is possible that humans accelerated erosion rates (from the background, pre-settlement rate, which here we can assume is set from \"background rock uplift\") by almost 500 times. If that happened, how would the profile of today be different from the pre-settlement profile (~400 years ago)? Does this have any implications for your estimated diffusivity? What would you need to change in the model to \"simulate\" this? Develop a scenario in which you evolve a landscape to steady state, then you change some parameters, and then evolve the landscape another 400 years to simulate the impact of humans. Provide plots and describe in detail exactly what you did to simulate the pre- and post-human landscape. Are there noticeable changes in the landscape? "
   ]
  },
  {
   "cell_type": "code",
   "execution_count": null,
   "metadata": {
    "collapsed": true
   },
   "outputs": [],
   "source": []
  }
 ],
 "metadata": {
  "anaconda-cloud": {},
  "kernelspec": {
   "display_name": "Python [conda root]",
   "language": "python",
   "name": "conda-root-py"
  },
  "language_info": {
   "codemirror_mode": {
    "name": "ipython",
    "version": 2
   },
   "file_extension": ".py",
   "mimetype": "text/x-python",
   "name": "python",
   "nbconvert_exporter": "python",
   "pygments_lexer": "ipython2",
   "version": "2.7.12"
  }
 },
 "nbformat": 4,
 "nbformat_minor": 1
}
